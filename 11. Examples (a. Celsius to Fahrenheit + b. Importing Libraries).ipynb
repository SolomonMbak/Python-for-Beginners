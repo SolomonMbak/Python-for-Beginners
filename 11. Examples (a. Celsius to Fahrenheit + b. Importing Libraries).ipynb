{
 "cells": [
  {
   "cell_type": "markdown",
   "metadata": {},
   "source": [
    "# Converting from Celsius to Fahrenheit."
   ]
  },
  {
   "cell_type": "code",
   "execution_count": 5,
   "metadata": {},
   "outputs": [
    {
     "name": "stdout",
     "output_type": "stream",
     "text": [
      "Enter the temperature to be converted: 45\n",
      "45.0 F 7.22 C\n"
     ]
    }
   ],
   "source": [
    "# Define the function\n",
    "def cels_to_fer(fer_Temp):\n",
    "    \n",
    "    #The formula\n",
    "    cels = (fer_Temp - 32) * (5 / 9)\n",
    "    \n",
    "    # Prnt the output\n",
    "    # %.2f give 2 decimal places only. You could adjust that to the number of decimal places youd like.\n",
    "    print(fer_Temp, \"F %.2f\" % cels, \"C\")\n",
    "\n",
    "# input() requests an input from the user\n",
    "fer_Temp = float(input(\"Enter the temperature to be converted: \"))\n",
    "\n",
    "# calling the function and subtituting the value.\n",
    "cels_to_fer(fer_Temp)\n",
    "\n",
    "\n",
    "# You can duplicate the code above to convert to celcius"
   ]
  },
  {
   "cell_type": "markdown",
   "metadata": {},
   "source": [
    "# Converting with an if statement"
   ]
  },
  {
   "cell_type": "code",
   "execution_count": 11,
   "metadata": {},
   "outputs": [
    {
     "name": "stdout",
     "output_type": "stream",
     "text": [
      "Input the temperature you want to convert(e.g: 30F, 60C): 896541f\n",
      "896541 Fahrenheit  in Celsius  is 498061 degrees\n"
     ]
    }
   ],
   "source": [
    "# Get input from user\n",
    "userInput = input(\"Input the temperature you want to convert(e.g: 30F, 60C): \")\n",
    "\n",
    "#Get all the positive values from the beginning of the users input till the end of the input.\n",
    "# [:-1] means all the input, from the beginning till the end\n",
    "# int() makes sure only the integers are gotten\n",
    "inputedValues = int(userInput[:-1])\n",
    "\n",
    "# Get the last value (The alphabet) from the user input\n",
    "getDegree = userInput[-1]\n",
    "\n",
    "# .upper() is a function that converts to capital letters.\n",
    "# If the user mistekely inputs a lower case alphabet, upper() makes it an upper case\n",
    "if getDegree.upper() == \"C\":\n",
    "    \n",
    "    #Subtitute the value gotten to the formula provided and then compute.\n",
    "    # This is for Fahrenheit\n",
    "    result = int(round((9 * inputedValues) / (5 + 32)))\n",
    "    beforeConvertion = \"Celsius\"\n",
    "    convertedTo = \"Fahrenheit\"\n",
    "\n",
    "#Subtitute the value gotten to the formula provided and then compute.\n",
    "# This is for Celcius\n",
    "elif getDegree.upper() == \"F\":\n",
    "    result = int(round((inputedValues - 32) * (5 / 9)))\n",
    "    beforeConvertion = \"Fahrenheit\"\n",
    "    convertedTo = \"Celsius\"\n",
    "\n",
    "# If the input doesnt follow the example given, throw an error message\n",
    "else:\n",
    "    print(\"The value inputed is not valid.\")\n",
    "    # If there is an error, end the code here.\n",
    "    quit()\n",
    "\n",
    "# If there are no errors, print the result.\n",
    "print(inputedValues, beforeConvertion, \" in\", convertedTo, \" is\", result, \"degrees\")"
   ]
  },
  {
   "cell_type": "markdown",
   "metadata": {},
   "source": [
    "# Quadratic equation (using \"cmath\" library and \"sqrt\" function) "
   ]
  },
  {
   "cell_type": "code",
   "execution_count": 20,
   "metadata": {},
   "outputs": [
    {
     "name": "stdout",
     "output_type": "stream",
     "text": [
      "What is a? 4\n",
      "What is b? 8\n",
      "What is c? 7\n",
      "root1 is %.2f (-1-0.8660254037844386j)\n",
      "root2 is %.2f (-1+0.8660254037844386j)\n"
     ]
    }
   ],
   "source": [
    "# Import sqrt from cmath (or math) function\n",
    "from cmath import sqrt\n",
    "\n",
    "# Request the values of a, b, c from the user\n",
    "a = float(input(\"What is a? \"))\n",
    "b = float(input(\"What is b? \"))\n",
    "c = float(input(\"What is c? \"))\n",
    "\n",
    "# d variable carring the equation\n",
    "d = (b**2) - (4*a*c)\n",
    "\n",
    "# solve the equation\n",
    "root1 = (-b - sqrt(d)) / (2 * a)\n",
    "root2 = (-b + sqrt(d)) / (2 * a)\n",
    "\n",
    "# print the roots\n",
    "print(\"root1 is %.2f\", root1)\n",
    "print(\"root2 is %.2f\", root2)"
   ]
  }
 ],
 "metadata": {
  "kernelspec": {
   "display_name": "Python 3",
   "language": "python",
   "name": "python3"
  },
  "language_info": {
   "codemirror_mode": {
    "name": "ipython",
    "version": 3
   },
   "file_extension": ".py",
   "mimetype": "text/x-python",
   "name": "python",
   "nbconvert_exporter": "python",
   "pygments_lexer": "ipython3",
   "version": "3.7.4"
  }
 },
 "nbformat": 4,
 "nbformat_minor": 2
}
