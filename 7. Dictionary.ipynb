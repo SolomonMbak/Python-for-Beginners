{
 "cells": [
  {
   "cell_type": "code",
   "execution_count": 1,
   "metadata": {},
   "outputs": [],
   "source": [
    "# a = {}\n",
    "# b = dict()"
   ]
  },
  {
   "cell_type": "code",
   "execution_count": 2,
   "metadata": {},
   "outputs": [
    {
     "name": "stdout",
     "output_type": "stream",
     "text": [
      "{'Solomon': 25, 'Mbak': 55}\n"
     ]
    }
   ],
   "source": [
    "firstDict = {\"Solomon\":25, \"Mbak\":55}\n",
    "print(firstDict)"
   ]
  },
  {
   "cell_type": "code",
   "execution_count": 3,
   "metadata": {},
   "outputs": [
    {
     "name": "stdout",
     "output_type": "stream",
     "text": [
      "{'Solomon': 25, 'Mbak': 55, 'Python': 40}\n"
     ]
    }
   ],
   "source": [
    "# Adding a values to a dictionary\n",
    "firstDict[\"Python\"] = 40\n",
    "print(firstDict)"
   ]
  },
  {
   "cell_type": "code",
   "execution_count": 4,
   "metadata": {},
   "outputs": [
    {
     "name": "stdout",
     "output_type": "stream",
     "text": [
      "25\n"
     ]
    }
   ],
   "source": [
    "print(firstDict[\"Solomon\"])"
   ]
  },
  {
   "cell_type": "code",
   "execution_count": 6,
   "metadata": {},
   "outputs": [
    {
     "name": "stdout",
     "output_type": "stream",
     "text": [
      "{'Solomon': 25, 'Mbak': 55, 'Python': 40, 1: 20, 3: 30}\n"
     ]
    }
   ],
   "source": [
    "firstDict[1] = 20\n",
    "firstDict[3] = 30\n",
    "print(firstDict)"
   ]
  },
  {
   "cell_type": "code",
   "execution_count": 13,
   "metadata": {},
   "outputs": [
    {
     "name": "stdout",
     "output_type": "stream",
     "text": [
      "Key: Solomon\n",
      "Age: 25\n",
      " \n",
      "Key: Mbak\n",
      "Age: 55\n",
      " \n",
      "Key: Python\n",
      "Age: 40\n",
      " \n",
      "Key: 1\n",
      "Age: 20\n",
      " \n",
      "Key: 3\n",
      "Age: 30\n",
      " \n"
     ]
    }
   ],
   "source": [
    "# For look\n",
    "for key, value in firstDict.items():\n",
    "    print(\"Key:\", key)\n",
    "    print(\"Age:\", value)\n",
    "    print(\" \")"
   ]
  },
  {
   "cell_type": "code",
   "execution_count": 17,
   "metadata": {},
   "outputs": [
    {
     "name": "stdout",
     "output_type": "stream",
     "text": [
      "Key: Solomon\n",
      "Age: 30\n",
      " \n",
      "Key: 30\n",
      "Age: 2\n",
      " \n",
      "Key: 123.5\n",
      "Age: kg\n",
      " \n",
      "Key: Python?\n",
      "Age: Yes\n",
      " \n"
     ]
    }
   ],
   "source": [
    "# Create a dictionary that has a string, an integer, a float and a boolean\n",
    "secondDict = {}\n",
    "\n",
    "secondDict[\"Solomon\"] = 30\n",
    "secondDict[30] = 2\n",
    "secondDict[123.5] = \"kg\"\n",
    "secondDict[\"Python?\"] = \"Yes\"\n",
    "\n",
    "\n",
    "for key, value in secondDict.items():\n",
    "    print(\"Key:\", key)\n",
    "    print(\"Age:\", value)\n",
    "    print(\" \")"
   ]
  },
  {
   "cell_type": "code",
   "execution_count": null,
   "metadata": {},
   "outputs": [],
   "source": []
  },
  {
   "cell_type": "code",
   "execution_count": null,
   "metadata": {},
   "outputs": [],
   "source": []
  }
 ],
 "metadata": {
  "kernelspec": {
   "display_name": "Python 3",
   "language": "python",
   "name": "python3"
  },
  "language_info": {
   "codemirror_mode": {
    "name": "ipython",
    "version": 3
   },
   "file_extension": ".py",
   "mimetype": "text/x-python",
   "name": "python",
   "nbconvert_exporter": "python",
   "pygments_lexer": "ipython3",
   "version": "3.7.4"
  }
 },
 "nbformat": 4,
 "nbformat_minor": 2
}
