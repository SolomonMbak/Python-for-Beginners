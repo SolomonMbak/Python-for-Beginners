{
 "cells": [
  {
   "cell_type": "markdown",
   "metadata": {},
   "source": [
    "# Functions"
   ]
  },
  {
   "cell_type": "code",
   "execution_count": 1,
   "metadata": {},
   "outputs": [
    {
     "data": {
      "text/plain": [
       "'Hello World'"
      ]
     },
     "execution_count": 1,
     "metadata": {},
     "output_type": "execute_result"
    }
   ],
   "source": [
    "variable1 = \"Hello World\"\n",
    "variable1"
   ]
  },
  {
   "cell_type": "code",
   "execution_count": 2,
   "metadata": {},
   "outputs": [
    {
     "name": "stdout",
     "output_type": "stream",
     "text": [
      "Hello world!\n"
     ]
    }
   ],
   "source": [
    "def function_1():\n",
    "    print(\"Hello world!\")\n",
    "\n",
    "function_1()"
   ]
  },
  {
   "cell_type": "code",
   "execution_count": 3,
   "metadata": {},
   "outputs": [
    {
     "data": {
      "text/plain": [
       "18"
      ]
     },
     "execution_count": 3,
     "metadata": {},
     "output_type": "execute_result"
    }
   ],
   "source": [
    "def function_2(a):\n",
    "    return a * 8 + a\n",
    "\n",
    "function_2(2)"
   ]
  },
  {
   "cell_type": "code",
   "execution_count": 4,
   "metadata": {},
   "outputs": [
    {
     "data": {
      "text/plain": [
       "45"
      ]
     },
     "execution_count": 4,
     "metadata": {},
     "output_type": "execute_result"
    }
   ],
   "source": [
    "b = function_2(5)\n",
    "b"
   ]
  },
  {
   "cell_type": "code",
   "execution_count": 5,
   "metadata": {},
   "outputs": [
    {
     "data": {
      "text/plain": [
       "55"
      ]
     },
     "execution_count": 5,
     "metadata": {},
     "output_type": "execute_result"
    }
   ],
   "source": [
    "def function_3(c, d):\n",
    "    return c + d + b\n",
    "\n",
    "function_3(5, 5)"
   ]
  },
  {
   "cell_type": "code",
   "execution_count": 6,
   "metadata": {},
   "outputs": [
    {
     "name": "stdout",
     "output_type": "stream",
     "text": [
      "I am the forth function\n",
      "My value is set to  5\n"
     ]
    },
    {
     "data": {
      "text/plain": [
       "3"
      ]
     },
     "execution_count": 6,
     "metadata": {},
     "output_type": "execute_result"
    }
   ],
   "source": [
    "def function_4(e):\n",
    "    print(\"I am the forth function\")\n",
    "    print(\"My value is set to \", e)\n",
    "    return 8 - e\n",
    "\n",
    "function_4(5)"
   ]
  },
  {
   "cell_type": "code",
   "execution_count": 7,
   "metadata": {},
   "outputs": [
    {
     "name": "stdout",
     "output_type": "stream",
     "text": [
      "I am the forth function\n",
      "My value is set to  9\n",
      "I am still the forth function, and my value is: \n",
      "-1\n"
     ]
    }
   ],
   "source": [
    "f = function_4(9)\n",
    "print(\"I am still the forth function, and my value is: \")\n",
    "print(f)"
   ]
  },
  {
   "cell_type": "markdown",
   "metadata": {},
   "source": [
    "## BMI Calculator"
   ]
  },
  {
   "cell_type": "code",
   "execution_count": 8,
   "metadata": {},
   "outputs": [],
   "source": [
    "# variables\n",
    "# First person\n",
    "name_1 = \"Solomon\"\n",
    "height_m_1 = 1.5\n",
    "weight_kg_1 = 80\n",
    "age1 = 25\n",
    "\n",
    "# Second person \n",
    "name_2 = \"Mbak\"\n",
    "height_m_2 = 1.8\n",
    "weight_kg_2 = 79\n",
    "age2 = 55"
   ]
  },
  {
   "cell_type": "code",
   "execution_count": 9,
   "metadata": {},
   "outputs": [],
   "source": [
    "# the calculator\n",
    "def bmi_calc(name, height, weight, age):\n",
    "    bmi = weight / (height ** 2)\n",
    "    print(\"Your bmi is:\", bmi)\n",
    "    \n",
    "    if bmi < 25:\n",
    "        return name + \" not overweight\"\n",
    "    else:\n",
    "        return name + \" Overweigt\""
   ]
  },
  {
   "cell_type": "code",
   "execution_count": 10,
   "metadata": {},
   "outputs": [
    {
     "name": "stdout",
     "output_type": "stream",
     "text": [
      "Your bmi is: 35.55555555555556\n",
      "Your bmi is: 24.382716049382715\n"
     ]
    }
   ],
   "source": [
    "# result\n",
    "firstPerson = bmi_calc(name_1, height_m_1, weight_kg_1, age1)\n",
    "secondPerson = bmi_calc(name_2, height_m_2, weight_kg_2, age2)"
   ]
  },
  {
   "cell_type": "code",
   "execution_count": 11,
   "metadata": {},
   "outputs": [
    {
     "name": "stdout",
     "output_type": "stream",
     "text": [
      "Age:  25 --> Solomon Overweigt\n",
      "Age:  55 --> Mbak not overweight\n"
     ]
    }
   ],
   "source": [
    "print(\"Age: \", age1, \"-->\", firstPerson)\n",
    "print(\"Age: \", age2, \"-->\", secondPerson)"
   ]
  },
  {
   "cell_type": "code",
   "execution_count": null,
   "metadata": {},
   "outputs": [],
   "source": []
  }
 ],
 "metadata": {
  "kernelspec": {
   "display_name": "Python 3",
   "language": "python",
   "name": "python3"
  },
  "language_info": {
   "codemirror_mode": {
    "name": "ipython",
    "version": 3
   },
   "file_extension": ".py",
   "mimetype": "text/x-python",
   "name": "python",
   "nbconvert_exporter": "python",
   "pygments_lexer": "ipython3",
   "version": "3.7.4"
  }
 },
 "nbformat": 4,
 "nbformat_minor": 2
}
