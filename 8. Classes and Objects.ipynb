{
 "cells": [
  {
   "cell_type": "code",
   "execution_count": 8,
   "metadata": {},
   "outputs": [],
   "source": [
    "class Website:\n",
    "    def seachEngine(self):\n",
    "        print(\"The name of the seach engine is: \" + self.name)\n",
    "        print(\"The URL is: \" + self.url)"
   ]
  },
  {
   "cell_type": "code",
   "execution_count": 9,
   "metadata": {},
   "outputs": [],
   "source": [
    "site_one = Website()\n",
    "site_one.name = \"Google\"\n",
    "site_one.url = \"www.google.com\"\n",
    "\n",
    "\n",
    "site_two = Website()\n",
    "site_two.name = \"BING\"\n",
    "site_two.url = \"www.bing.com\"\n",
    "\n",
    "\n",
    "site_Three = Website()\n",
    "site_Three.name = \"Yahoo\"\n",
    "site_Three.url = \"www.yahoo.com\""
   ]
  },
  {
   "cell_type": "code",
   "execution_count": 10,
   "metadata": {},
   "outputs": [
    {
     "name": "stdout",
     "output_type": "stream",
     "text": [
      "The name of the seach engine is: Google\n",
      "The URL is: www.google.com\n",
      "The name of the seach engine is: BING\n",
      "The URL is: www.bing.com\n",
      "The name of the seach engine is: Yahoo\n",
      "The URL is: www.yahoo.com\n"
     ]
    }
   ],
   "source": [
    "site_one.seachEngine()\n",
    "site_two.seachEngine()\n",
    "site_Three.seachEngine()"
   ]
  },
  {
   "cell_type": "code",
   "execution_count": 14,
   "metadata": {},
   "outputs": [],
   "source": [
    "# Construct\n",
    "class Gadgets:\n",
    "    def __init__(self, theProduct, theName, theSize):\n",
    "        self.theProduct = theProduct\n",
    "        self.theName = theName\n",
    "        self.theSize = theSize\n",
    "        \n",
    "    def Brands(self):\n",
    "        print(self.theProduct + \" produced \" + self.theName + \" and its size is: \" + self.theSize)"
   ]
  },
  {
   "cell_type": "code",
   "execution_count": 15,
   "metadata": {},
   "outputs": [
    {
     "name": "stdout",
     "output_type": "stream",
     "text": [
      "HP produced Laptop and its size is: 32 inch\n",
      "Dell produced Hard Drive and its size is: 500GB\n",
      "Acer produced USB Stick and its size is: 1TB\n"
     ]
    }
   ],
   "source": [
    "gadget1 = Gadgets(\"HP\", \"Laptop\", \"32 inch\")\n",
    "gadget2 = Gadgets(\"Dell\", \"Hard Drive\", \"500GB\")\n",
    "gadget3 = Gadgets(\"Acer\", \"USB Stick\", \"1TB\")\n",
    "\n",
    "\n",
    "# Print the values\n",
    "gadget1.Brands()\n",
    "gadget2.Brands()\n",
    "gadget3.Brands()"
   ]
  },
  {
   "cell_type": "code",
   "execution_count": null,
   "metadata": {},
   "outputs": [],
   "source": []
  },
  {
   "cell_type": "code",
   "execution_count": null,
   "metadata": {},
   "outputs": [],
   "source": []
  }
 ],
 "metadata": {
  "kernelspec": {
   "display_name": "Python 3",
   "language": "python",
   "name": "python3"
  },
  "language_info": {
   "codemirror_mode": {
    "name": "ipython",
    "version": 3
   },
   "file_extension": ".py",
   "mimetype": "text/x-python",
   "name": "python",
   "nbconvert_exporter": "python",
   "pygments_lexer": "ipython3",
   "version": "3.7.4"
  }
 },
 "nbformat": 4,
 "nbformat_minor": 2
}
