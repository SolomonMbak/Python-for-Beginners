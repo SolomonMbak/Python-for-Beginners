{
 "cells": [
  {
   "cell_type": "markdown",
   "metadata": {},
   "source": [
    "## Variables and conditional statements"
   ]
  },
  {
   "cell_type": "code",
   "execution_count": 8,
   "metadata": {},
   "outputs": [],
   "source": [
    "# variables\n",
    "var1 = 10\n",
    "var2 = 20"
   ]
  },
  {
   "cell_type": "code",
   "execution_count": 9,
   "metadata": {},
   "outputs": [
    {
     "name": "stdout",
     "output_type": "stream",
     "text": [
      "10\n",
      "20\n"
     ]
    }
   ],
   "source": [
    "print(var1)\n",
    "print(var2)"
   ]
  },
  {
   "cell_type": "code",
   "execution_count": 14,
   "metadata": {},
   "outputs": [
    {
     "name": "stdout",
     "output_type": "stream",
     "text": [
      "Variable 2 is bigger!\n"
     ]
    }
   ],
   "source": [
    "# conditional statments\n",
    "if var1 > var2:\n",
    "    print(\"Variable 1 is smaller!\")\n",
    "else:\n",
    "    print(\"Variable 2 is bigger!\")"
   ]
  },
  {
   "cell_type": "code",
   "execution_count": 18,
   "metadata": {},
   "outputs": [
    {
     "name": "stdout",
     "output_type": "stream",
     "text": [
      "Variable 4 is bigger\n"
     ]
    }
   ],
   "source": [
    "# if\n",
    "# else\n",
    "# elif\n",
    "\n",
    "var3 = 5\n",
    "var4 = 6\n",
    "\n",
    "\n",
    "if var3 > var4:\n",
    "    print(\"Variable 3 is bigger\")\n",
    "elif var3 == var4:\n",
    "    print(\"They are both the same\")\n",
    "elif var3 != var4:\n",
    "    print(\"Variable 4 is bigger\")\n",
    "else:\n",
    "    print(\"They are not the same\")"
   ]
  },
  {
   "cell_type": "code",
   "execution_count": 19,
   "metadata": {},
   "outputs": [
    {
     "name": "stdout",
     "output_type": "stream",
     "text": [
      "They look the same\n"
     ]
    }
   ],
   "source": [
    "var5 = 7\n",
    "var6 = 6\n",
    "\n",
    "if var5 < var6:\n",
    "    print(\"Variable 5 is smaller!\")\n",
    "else:\n",
    "    if var5 - 1 == var6:\n",
    "        print(\"They look the same\")\n",
    "    else:\n",
    "        print(\"They are not the same\")"
   ]
  },
  {
   "cell_type": "markdown",
   "metadata": {},
   "source": [
    "# Example 1"
   ]
  },
  {
   "cell_type": "code",
   "execution_count": 31,
   "metadata": {},
   "outputs": [
    {
     "data": {
      "text/plain": [
       "20.0"
      ]
     },
     "execution_count": 31,
     "metadata": {},
     "output_type": "execute_result"
    }
   ],
   "source": [
    "# bmi calculator\n",
    "# bmi = weight_kg / (height_m ** 2)\n",
    "\n",
    "# Variables\n",
    "weight_kg = 80\n",
    "height_m = 2\n",
    "name = \"Solomon\"\n",
    "\n",
    "# calculate\n",
    "bmi = weight_kg / (height_m ** 2)\n",
    "bmi"
   ]
  },
  {
   "cell_type": "code",
   "execution_count": 27,
   "metadata": {},
   "outputs": [
    {
     "name": "stdout",
     "output_type": "stream",
     "text": [
      "Solomon\n",
      "You bmi is  8.88888888888889\n",
      "Congratulations, you look ok!\n"
     ]
    }
   ],
   "source": [
    "# Print statements\n",
    "print(name)\n",
    "print(\"You bmi is \", bmi)\n",
    "\n",
    "\n",
    "# condotional statements\n",
    "if bmi < 25:\n",
    "    print(\"Congratulations, you look ok!\")\n",
    "else:\n",
    "    print(\"You need to work out more often and also check your diet!\")"
   ]
  },
  {
   "cell_type": "code",
   "execution_count": 37,
   "metadata": {},
   "outputs": [
    {
     "name": "stdout",
     "output_type": "stream",
     "text": [
      "The area of this circle is 12.56\n",
      "12.56 is greater than 5\n"
     ]
    }
   ],
   "source": [
    "# Area of a cirlce and let us know if it is bigger than 5\n",
    "# The formula => A=πr^2\n",
    "\n",
    "# The variables\n",
    "π = 3.14\n",
    "r = 2\n",
    "\n",
    "\n",
    "# put the formula to use\n",
    "A = π * (r**2)\n",
    "\n",
    "\n",
    "# the conditions\n",
    "if A > 5:\n",
    "    print(\"The area of this circle is\", A)\n",
    "    print(A, \"is greater than 5\")\n",
    "else:\n",
    "    print(\"The area of this circle is\", A)\n",
    "    print(A, \"is less than 5\")"
   ]
  },
  {
   "cell_type": "code",
   "execution_count": null,
   "metadata": {},
   "outputs": [],
   "source": []
  }
 ],
 "metadata": {
  "kernelspec": {
   "display_name": "Python 3",
   "language": "python",
   "name": "python3"
  },
  "language_info": {
   "codemirror_mode": {
    "name": "ipython",
    "version": 3
   },
   "file_extension": ".py",
   "mimetype": "text/x-python",
   "name": "python",
   "nbconvert_exporter": "python",
   "pygments_lexer": "ipython3",
   "version": "3.7.4"
  }
 },
 "nbformat": 4,
 "nbformat_minor": 2
}
